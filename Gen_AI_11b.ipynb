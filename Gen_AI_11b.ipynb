{
  "nbformat": 4,
  "nbformat_minor": 0,
  "metadata": {
    "colab": {
      "provenance": [],
      "include_colab_link": true
    },
    "kernelspec": {
      "name": "python3",
      "display_name": "Python 3"
    },
    "language_info": {
      "name": "python"
    }
  },
  "cells": [
    {
      "cell_type": "markdown",
      "metadata": {
        "id": "view-in-github",
        "colab_type": "text"
      },
      "source": [
        "<a href=\"https://colab.research.google.com/github/rohitxo07/GEN-AI/blob/main/Gen_AI_11b.ipynb\" target=\"_parent\"><img src=\"https://colab.research.google.com/assets/colab-badge.svg\" alt=\"Open In Colab\"/></a>"
      ]
    },
    {
      "cell_type": "code",
      "execution_count": null,
      "metadata": {
        "colab": {
          "base_uri": "https://localhost:8080/"
        },
        "id": "-MYLY3NVEQGy",
        "outputId": "88ffc254-d33a-41b5-a048-72a5d09b097e"
      },
      "outputs": [
        {
          "output_type": "stream",
          "name": "stdout",
          "text": [
            "\u001b[2K   \u001b[90m━━━━━━━━━━━━━━━━━━━━━━━━━━━━━━━━━━━━━━━━\u001b[0m \u001b[32m31.4/31.4 MB\u001b[0m \u001b[31m49.8 MB/s\u001b[0m eta \u001b[36m0:00:00\u001b[0m\n",
            "\u001b[?25h"
          ]
        }
      ],
      "source": [
        "!pip install -q sentence-transformers faiss-cpu"
      ]
    },
    {
      "cell_type": "code",
      "source": [
        "\n",
        "from sentence_transformers import SentenceTransformer\n",
        "import faiss\n",
        "\n",
        "#step1:\n",
        "docs = [\n",
        "    \"The Taj Mahal is located in Agra\",\n",
        "    \"The Great Wall of China is found in China\",\n",
        "    \"The Eiffel Tower is located in Paris\"\n",
        "]\n",
        "\n",
        "#step2:create embedding\n",
        "model = SentenceTransformer('all-MiniLM-L6-v2')\n",
        "doc_embeddings = model.encode(docs)\n",
        "\n",
        "#step3:\n",
        "dimension = doc_embeddings.shape[1]\n",
        "index = faiss.IndexFlatL2(dimension)\n",
        "index.add(doc_embeddings)\n",
        "\n",
        "#step4:define retrival function\n",
        "def retrieve(query, top_k=2):\n",
        "  query_embedding = model.encode([query])\n",
        "  distances, indices = index.search(query_embedding, top_k)\n",
        "  return [docs[i] for i in indices[0]]\n",
        "\n",
        "#step5:Ask questions\n",
        "query = \"where is the Taj Mahal located?\"\n",
        "results = retrieve(query)\n",
        "print(\"Question:\",query)\n",
        "print(\"Retrieved Documents:\")\n",
        "for result in results:\n",
        "  print(result)"
      ],
      "metadata": {
        "id": "GwC--NdAONAY",
        "colab": {
          "base_uri": "https://localhost:8080/"
        },
        "outputId": "b51a9732-05a8-43cf-9e5f-29e7748132b8"
      },
      "execution_count": null,
      "outputs": [
        {
          "output_type": "stream",
          "name": "stdout",
          "text": [
            "Question: where is the Taj Mahal located?\n",
            "Retrieved Documents:\n",
            "The Taj Mahal is located in Agra\n",
            "The Great Wall of China is found in China\n"
          ]
        }
      ]
    }
  ]
}